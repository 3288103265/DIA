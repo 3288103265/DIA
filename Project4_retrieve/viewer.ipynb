{
 "cells": [
  {
   "cell_type": "code",
   "execution_count": 1,
   "metadata": {},
   "outputs": [],
   "source": [
    "import os\n",
    "import struct"
   ]
  },
  {
   "cell_type": "code",
   "execution_count": 69,
   "metadata": {},
   "outputs": [],
   "source": [
    "dsift_feat = os.listdir('jpg.dsift/')\n",
    "root = 'jpg.dsift/'\n",
    "with open(root+dsift_feat[0], 'rb') as f:\n",
    "    a = f.read(4)\n",
    "    b = f.read()"
   ]
  },
  {
   "cell_type": "code",
   "execution_count": 27,
   "metadata": {
    "tags": [
     "outputPrepend"
    ]
   },
   "outputs": [],
   "source": [
    "a = struct.unpack('@i',a)\n",
    "b = struct.iter_unpack('@128B4f',b)\n"
   ]
  },
  {
   "cell_type": "code",
   "execution_count": 33,
   "metadata": {},
   "outputs": [],
   "source": [
    "def get_sift_vector(path):\n",
    "    # read file and return list of sift vectors.\n",
    "    with open(path, 'rb') as f:\n",
    "        header = f.read(4)\n",
    "        body = f.read()\n",
    "    \n",
    "    n_feats = struct.unpack('@i', header)\n",
    "    feats = struct.iter_unpack('@128B4f', body)\n",
    "\n",
    "    feat_list = [item[:-4] for item in feats]\n",
    "    assert len(feat_list) == n_feats[0]\n",
    "\n",
    "    return feat_list\n",
    "\n",
    "img1_feat = get_sift_vector(root+dsift_feat[0])\n"
   ]
  },
  {
   "cell_type": "code",
   "execution_count": 68,
   "metadata": {},
   "outputs": [],
   "source": [
    "class Img(object):\n",
    "\n",
    "    # Img defined by sift descriptors\n",
    "\n",
    "    def __init__(self, path):\n",
    "        with open(path, 'rb') as f:\n",
    "            header = f.read(4)\n",
    "            body = f.read()\n",
    "    \n",
    "        n_feats = struct.unpack('@i', header)\n",
    "        feats = struct.iter_unpack('@128B4f', body)\n",
    "\n",
    "        feat_list = [item[:-4] for item in feats]\n",
    "        assert len(feat_list) == n_feats[0]\n",
    "\n",
    "        self.shape = np.array(feat_list).shape\n",
    "        self.feats = np.array(feat_list)"
   ]
  },
  {
   "cell_type": "code",
   "execution_count": 70,
   "metadata": {},
   "outputs": [],
   "source": [
    "img = Img(root+dsift_feat[0])"
   ]
  },
  {
   "cell_type": "code",
   "execution_count": 73,
   "metadata": {},
   "outputs": [
    {
     "output_type": "execute_result",
     "data": {
      "text/plain": "(327, 128)"
     },
     "metadata": {},
     "execution_count": 73
    }
   ],
   "source": [
    "img.shape"
   ]
  },
  {
   "cell_type": "code",
   "execution_count": 110,
   "metadata": {},
   "outputs": [
    {
     "output_type": "stream",
     "name": "stdout",
     "text": "1 3\n2 3\n4 2\n7 1\n"
    }
   ],
   "source": [
    "from collections import Counter\n",
    "\n",
    "b = [1,1,1,2,2,2,4,4,7]\n",
    "for i, v in Counter(b).items():\n",
    "    print(i,v)"
   ]
  },
  {
   "cell_type": "code",
   "execution_count": 34,
   "metadata": {},
   "outputs": [
    {
     "output_type": "execute_result",
     "data": {
      "text/plain": "array([[0, 1, 2, 3, 4],\n       [5, 6, 7, 8, 9]])"
     },
     "metadata": {},
     "execution_count": 34
    }
   ],
   "source": [
    "a = np.array(range(10)).reshape(2,5)\n",
    "a"
   ]
  },
  {
   "cell_type": "code",
   "execution_count": 33,
   "metadata": {},
   "outputs": [
    {
     "output_type": "execute_result",
     "data": {
      "text/plain": "array([4, 4])"
     },
     "metadata": {},
     "execution_count": 33
    }
   ],
   "source": [
    "np.argmax(a, axis=1)"
   ]
  },
  {
   "cell_type": "code",
   "execution_count": 32,
   "metadata": {},
   "outputs": [
    {
     "output_type": "stream",
     "name": "stdout",
     "text": "\n    Returns the indices of the maximum values along an axis.\n\n    Parameters\n    ----------\n    a : array_like\n        Input array.\n    axis : int, optional\n        By default, the index is into the flattened array, otherwise\n        along the specified axis.\n    out : array, optional\n        If provided, the result will be inserted into this array. It should\n        be of the appropriate shape and dtype.\n\n    Returns\n    -------\n    index_array : ndarray of ints\n        Array of indices into the array. It has the same shape as `a.shape`\n        with the dimension along `axis` removed.\n\n    See Also\n    --------\n    ndarray.argmax, argmin\n    amax : The maximum value along a given axis.\n    unravel_index : Convert a flat index into an index tuple.\n\n    Notes\n    -----\n    In case of multiple occurrences of the maximum values, the indices\n    corresponding to the first occurrence are returned.\n\n    Examples\n    --------\n    >>> a = np.arange(6).reshape(2,3) + 10\n    >>> a\n    array([[10, 11, 12],\n           [13, 14, 15]])\n    >>> np.argmax(a)\n    5\n    >>> np.argmax(a, axis=0)\n    array([1, 1, 1])\n    >>> np.argmax(a, axis=1)\n    array([2, 2])\n\n    Indexes of the maximal elements of a N-dimensional array:\n\n    >>> ind = np.unravel_index(np.argmax(a, axis=None), a.shape)\n    >>> ind\n    (1, 2)\n    >>> a[ind]\n    15\n\n    >>> b = np.arange(6)\n    >>> b[1] = 5\n    >>> b\n    array([0, 5, 2, 3, 4, 5])\n    >>> np.argmax(b)  # Only the first occurrence is returned.\n    1\n\n    \n"
    }
   ],
   "source": [
    "print(np.argmax.__doc__)"
   ]
  },
  {
   "cell_type": "code",
   "execution_count": 116,
   "metadata": {},
   "outputs": [
    {
     "output_type": "execute_result",
     "data": {
      "text/plain": "array([[19,  4,  7,  0,  9, 18, 15,  1,  3,  7],\n       [ 8, 15, 16,  1,  4,  7,  7,  1,  5, 16],\n       [ 4, 12, 12, 15, 18,  6, 10,  1, 13,  4],\n       [ 4, 12,  0,  8, 12,  8,  7,  4, 19, 11],\n       [15, 11, 11, 17, 12,  0,  2, 15, 17, 17],\n       [10,  9, 16, 15,  3,  7, 11,  6,  8,  5],\n       [14,  5,  7, 16,  6,  0, 15,  2,  9, 10],\n       [ 9,  4,  5,  0,  0,  1, 14, 14,  6,  0],\n       [ 3,  9,  8,  4,  3, 16,  4,  2, 18,  5],\n       [ 4, 10,  5,  9,  5,  3,  0, 15,  8,  4]])"
     },
     "metadata": {},
     "execution_count": 116
    }
   ],
   "source": [
    "# 寻找矩阵每一列前k大值的行索引\n",
    "a = np.random.randint(0,20,(10,10))\n",
    "a"
   ]
  },
  {
   "cell_type": "code",
   "execution_count": 117,
   "metadata": {},
   "outputs": [
    {
     "output_type": "execute_result",
     "data": {
      "text/plain": "array([[4, 6, 5, 0],\n       [0, 1, 2, 9],\n       [1, 8, 3, 4],\n       [9, 1, 8, 4],\n       [0, 3, 8, 9],\n       [0, 6, 3, 2],\n       [9, 6, 3, 0],\n       [8, 0, 7, 6],\n       [2, 1, 8, 5],\n       [8, 3, 1, 7]])"
     },
     "metadata": {},
     "execution_count": 117
    }
   ],
   "source": [
    "np.argpartition(a, -4, axis=1)[:,-4:]"
   ]
  },
  {
   "cell_type": "code",
   "execution_count": 122,
   "metadata": {},
   "outputs": [
    {
     "output_type": "execute_result",
     "data": {
      "text/plain": "array([ 9, -1,  9,  3])"
     },
     "metadata": {},
     "execution_count": 122
    }
   ],
   "source": [
    "np.random.randint(-1,10, size=4)"
   ]
  },
  {
   "cell_type": "code",
   "execution_count": 115,
   "metadata": {},
   "outputs": [
    {
     "output_type": "execute_result",
     "data": {
      "text/plain": "array([ 1,  2,  0,  4,  5,  6,  7,  8,  9, 10])"
     },
     "metadata": {},
     "execution_count": 115
    }
   ],
   "source": [
    "b = np.array([1,2,3,4,5,6,7,8,9,10])\n",
    "c = np.array([4,4,0,4,5,6,7,8,9,10])\n",
    "np.minimum(b,c)"
   ]
  },
  {
   "cell_type": "code",
   "execution_count": 100,
   "metadata": {},
   "outputs": [
    {
     "output_type": "execute_result",
     "data": {
      "text/plain": "array([[ 1,  8,  2, 15, 12, 12,  3,  1,  1,  4],\n       [ 3,  1, 17, 14, 17,  0,  3, 14, 10,  6],\n       [ 3, 17, 14, 13, 10, 19,  0,  3,  2, 13],\n       [15,  7,  4,  1,  9,  0,  4, 10,  0,  4],\n       [16,  6, 11, 18, 10, 11,  1,  2, 15,  4],\n       [ 1,  1,  4,  0, 13, 14,  7, 16, 11,  3],\n       [11, 16, 11,  3,  3,  9, 18,  5, 17, 12],\n       [14,  4, 13,  2, 13,  0,  9, 10,  1, 19],\n       [18,  4, 15,  7,  0, 19,  6, 10,  7, 13],\n       [14, 16,  1, 16,  6,  9,  6, 13, 13, 18],\n       [ 1,  2,  3,  4,  5,  6,  7,  8,  9, 10],\n       [ 1,  2,  3,  4,  5,  6,  7,  8,  9, 10]])"
     },
     "metadata": {},
     "execution_count": 100
    }
   ],
   "source": [
    "np.vstack([a, b])"
   ]
  },
  {
   "cell_type": "code",
   "execution_count": 44,
   "metadata": {},
   "outputs": [
    {
     "output_type": "execute_result",
     "data": {
      "text/plain": "2"
     },
     "metadata": {},
     "execution_count": 44
    }
   ],
   "source": [
    "ind = 56\n",
    "res = np.array([45, 78, 21, 56, 57])\n",
    "\n",
    "sum(res//4 == ind//4)"
   ]
  },
  {
   "cell_type": "code",
   "execution_count": 45,
   "metadata": {},
   "outputs": [
    {
     "output_type": "stream",
     "name": "stdout",
     "text": "0 [ 0 18  5  5  5  8 16 14  6  3]\n1 [0 1 2 3 4 5 6 7 8 9]\n2 [10 14 18  5  0  2  5  9 19 19]\n3 [13  6  0 18 18  6 17 17  8 17]\n4 [ 9 15  7  6  9  1 16  9  6  2]\n5 [ 0  7  4 14  8  7 18  0 17  9]\n6 [14  0  0 19 14  6  0 13  5  6]\n7 [17  6 12  9  1 11 14  0  2  8]\n8 [12 13 12 17  9 17  1  9  6  6]\n9 [10  9 18  8 11  7  2  7 13  3]\n"
    }
   ],
   "source": [
    "for i, row in enumerate(a):\n",
    "    print(i,row)"
   ]
  },
  {
   "cell_type": "code",
   "execution_count": 54,
   "metadata": {},
   "outputs": [],
   "source": [
    "def similarity_matrix(database):\n",
    " \n",
    "    # return socre matrix S. S[i,j] means score of i and j\n",
    "    score = np.zeros((len(database), len(database)))\n",
    "    for i in range(len(database)):\n",
    "        score[i] = [database[i].dot(each) for each in database]\n",
    "    \n",
    "    # import pickle\n",
    "    # with open('score_matrix.pkl', 'wb') as f:\n",
    "    #     pickle.dump(score_matrix)\n",
    "\n",
    "    return score"
   ]
  },
  {
   "cell_type": "code",
   "execution_count": 57,
   "metadata": {},
   "outputs": [],
   "source": [
    "\n",
    "s = similarity_matrix(a)"
   ]
  },
  {
   "cell_type": "code",
   "execution_count": 61,
   "metadata": {},
   "outputs": [],
   "source": [
    "def evalute(similarity_matrix):\n",
    "\n",
    "    top4 = np.argpartition(similarity_matrix, -4, axis=1)[:,-4:]\n",
    "    print(top4)\n",
    "    precision = [score(i, row) for i,row in enumerate(top4)]\n",
    "    map = np.array(precision).mean()\n",
    "    return map\n",
    "\n",
    "\n",
    "def score(index, res):\n",
    "    # index and res[]\n",
    "    # calculate precision\n",
    "    return sum(res//4 == index//4)"
   ]
  },
  {
   "cell_type": "code",
   "execution_count": 62,
   "metadata": {},
   "outputs": [
    {
     "output_type": "stream",
     "name": "stdout",
     "text": "[[5 7 6 1]\n [6 7 8 9]\n [1 2 8 9]\n [9 6 3 4]\n [0 6 1 4]\n [9 3 8 6]\n [7 0 3 4]\n [5 6 2 0]\n [2 1 5 3]\n [0 2 8 4]]\n"
    },
    {
     "output_type": "execute_result",
     "data": {
      "text/plain": "1.2"
     },
     "metadata": {},
     "execution_count": 62
    }
   ],
   "source": [
    "evalute(a)"
   ]
  },
  {
   "cell_type": "code",
   "execution_count": 63,
   "metadata": {},
   "outputs": [
    {
     "output_type": "execute_result",
     "data": {
      "text/plain": "12"
     },
     "metadata": {},
     "execution_count": 63
    }
   ],
   "source": [
    "np.array([1, 0, 2, 1,2,1,2,2 ,0,1]).sum()"
   ]
  },
  {
   "cell_type": "code",
   "execution_count": 67,
   "metadata": {},
   "outputs": [
    {
     "output_type": "execute_result",
     "data": {
      "text/plain": "(2, 3, 3)"
     },
     "metadata": {},
     "execution_count": 67
    }
   ],
   "source": [
    "np.array([np.eye(3), np.ones((3,3))]).shape"
   ]
  },
  {
   "cell_type": "code",
   "execution_count": 123,
   "metadata": {},
   "outputs": [],
   "source": [
    "import glob\n",
    "import os\n",
    "import pandas as pd"
   ]
  },
  {
   "cell_type": "code",
   "execution_count": 126,
   "metadata": {},
   "outputs": [
    {
     "output_type": "execute_result",
     "data": {
      "text/plain": "    0   1   2   3   4   5   6   7   8   9\n0  19   4   7   0   9  18  15   1   3   7\n1   8  15  16   1   4   7   7   1   5  16\n2   4  12  12  15  18   6  10   1  13   4\n3   4  12   0   8  12   8   7   4  19  11\n4  15  11  11  17  12   0   2  15  17  17\n5  10   9  16  15   3   7  11   6   8   5\n6  14   5   7  16   6   0  15   2   9  10\n7   9   4   5   0   0   1  14  14   6   0\n8   3   9   8   4   3  16   4   2  18   5\n9   4  10   5   9   5   3   0  15   8   4",
      "text/html": "<div>\n<style scoped>\n    .dataframe tbody tr th:only-of-type {\n        vertical-align: middle;\n    }\n\n    .dataframe tbody tr th {\n        vertical-align: top;\n    }\n\n    .dataframe thead th {\n        text-align: right;\n    }\n</style>\n<table border=\"1\" class=\"dataframe\">\n  <thead>\n    <tr style=\"text-align: right;\">\n      <th></th>\n      <th>0</th>\n      <th>1</th>\n      <th>2</th>\n      <th>3</th>\n      <th>4</th>\n      <th>5</th>\n      <th>6</th>\n      <th>7</th>\n      <th>8</th>\n      <th>9</th>\n    </tr>\n  </thead>\n  <tbody>\n    <tr>\n      <th>0</th>\n      <td>19</td>\n      <td>4</td>\n      <td>7</td>\n      <td>0</td>\n      <td>9</td>\n      <td>18</td>\n      <td>15</td>\n      <td>1</td>\n      <td>3</td>\n      <td>7</td>\n    </tr>\n    <tr>\n      <th>1</th>\n      <td>8</td>\n      <td>15</td>\n      <td>16</td>\n      <td>1</td>\n      <td>4</td>\n      <td>7</td>\n      <td>7</td>\n      <td>1</td>\n      <td>5</td>\n      <td>16</td>\n    </tr>\n    <tr>\n      <th>2</th>\n      <td>4</td>\n      <td>12</td>\n      <td>12</td>\n      <td>15</td>\n      <td>18</td>\n      <td>6</td>\n      <td>10</td>\n      <td>1</td>\n      <td>13</td>\n      <td>4</td>\n    </tr>\n    <tr>\n      <th>3</th>\n      <td>4</td>\n      <td>12</td>\n      <td>0</td>\n      <td>8</td>\n      <td>12</td>\n      <td>8</td>\n      <td>7</td>\n      <td>4</td>\n      <td>19</td>\n      <td>11</td>\n    </tr>\n    <tr>\n      <th>4</th>\n      <td>15</td>\n      <td>11</td>\n      <td>11</td>\n      <td>17</td>\n      <td>12</td>\n      <td>0</td>\n      <td>2</td>\n      <td>15</td>\n      <td>17</td>\n      <td>17</td>\n    </tr>\n    <tr>\n      <th>5</th>\n      <td>10</td>\n      <td>9</td>\n      <td>16</td>\n      <td>15</td>\n      <td>3</td>\n      <td>7</td>\n      <td>11</td>\n      <td>6</td>\n      <td>8</td>\n      <td>5</td>\n    </tr>\n    <tr>\n      <th>6</th>\n      <td>14</td>\n      <td>5</td>\n      <td>7</td>\n      <td>16</td>\n      <td>6</td>\n      <td>0</td>\n      <td>15</td>\n      <td>2</td>\n      <td>9</td>\n      <td>10</td>\n    </tr>\n    <tr>\n      <th>7</th>\n      <td>9</td>\n      <td>4</td>\n      <td>5</td>\n      <td>0</td>\n      <td>0</td>\n      <td>1</td>\n      <td>14</td>\n      <td>14</td>\n      <td>6</td>\n      <td>0</td>\n    </tr>\n    <tr>\n      <th>8</th>\n      <td>3</td>\n      <td>9</td>\n      <td>8</td>\n      <td>4</td>\n      <td>3</td>\n      <td>16</td>\n      <td>4</td>\n      <td>2</td>\n      <td>18</td>\n      <td>5</td>\n    </tr>\n    <tr>\n      <th>9</th>\n      <td>4</td>\n      <td>10</td>\n      <td>5</td>\n      <td>9</td>\n      <td>5</td>\n      <td>3</td>\n      <td>0</td>\n      <td>15</td>\n      <td>8</td>\n      <td>4</td>\n    </tr>\n  </tbody>\n</table>\n</div>"
     },
     "metadata": {},
     "execution_count": 126
    }
   ],
   "source": [
    "df = pd.DataFrame(a)\n",
    "df"
   ]
  },
  {
   "cell_type": "code",
   "execution_count": 128,
   "metadata": {},
   "outputs": [
    {
     "output_type": "stream",
     "name": "stdout",
     "text": "3\n   0  1  2  3  4   5  6  7   8  9\n8  3  9  8  4  3  16  4  2  18  5\n4\n   0   1   2   3   4  5   6   7   8   9\n2  4  12  12  15  18  6  10   1  13   4\n3  4  12   0   8  12  8   7   4  19  11\n9  4  10   5   9   5  3   0  15   8   4\n8\n   0   1   2  3  4  5  6  7  8   9\n1  8  15  16  1  4  7  7  1  5  16\n9\n   0  1  2  3  4  5   6   7  8  9\n7  9  4  5  0  0  1  14  14  6  0\n10\n    0  1   2   3  4  5   6  7  8  9\n5  10  9  16  15  3  7  11  6  8  5\n14\n    0  1  2   3  4  5   6  7  8   9\n6  14  5  7  16  6  0  15  2  9  10\n15\n    0   1   2   3   4  5  6   7   8   9\n4  15  11  11  17  12  0  2  15  17  17\n19\n    0  1  2  3  4   5   6  7  8  9\n0  19  4  7  0  9  18  15  1  3  7\n"
    }
   ],
   "source": [
    "gb = df.groupby(0)\n",
    "for name, grouped in gb:\n",
    "    print(name)\n",
    "    print(grouped)"
   ]
  },
  {
   "cell_type": "code",
   "execution_count": 133,
   "metadata": {},
   "outputs": [
    {
     "output_type": "execute_result",
     "data": {
      "text/plain": "     1   2   3   4   5   6   7   8   9\n0                                     \n3    9   8   4   3  16   4   2  18   5\n4   34  17  32  35  17  17  20  40  19\n8   15  16   1   4   7   7   1   5  16\n9    4   5   0   0   1  14  14   6   0\n10   9  16  15   3   7  11   6   8   5\n14   5   7  16   6   0  15   2   9  10\n15  11  11  17  12   0   2  15  17  17\n19   4   7   0   9  18  15   1   3   7",
      "text/html": "<div>\n<style scoped>\n    .dataframe tbody tr th:only-of-type {\n        vertical-align: middle;\n    }\n\n    .dataframe tbody tr th {\n        vertical-align: top;\n    }\n\n    .dataframe thead th {\n        text-align: right;\n    }\n</style>\n<table border=\"1\" class=\"dataframe\">\n  <thead>\n    <tr style=\"text-align: right;\">\n      <th></th>\n      <th>1</th>\n      <th>2</th>\n      <th>3</th>\n      <th>4</th>\n      <th>5</th>\n      <th>6</th>\n      <th>7</th>\n      <th>8</th>\n      <th>9</th>\n    </tr>\n    <tr>\n      <th>0</th>\n      <th></th>\n      <th></th>\n      <th></th>\n      <th></th>\n      <th></th>\n      <th></th>\n      <th></th>\n      <th></th>\n      <th></th>\n    </tr>\n  </thead>\n  <tbody>\n    <tr>\n      <th>3</th>\n      <td>9</td>\n      <td>8</td>\n      <td>4</td>\n      <td>3</td>\n      <td>16</td>\n      <td>4</td>\n      <td>2</td>\n      <td>18</td>\n      <td>5</td>\n    </tr>\n    <tr>\n      <th>4</th>\n      <td>34</td>\n      <td>17</td>\n      <td>32</td>\n      <td>35</td>\n      <td>17</td>\n      <td>17</td>\n      <td>20</td>\n      <td>40</td>\n      <td>19</td>\n    </tr>\n    <tr>\n      <th>8</th>\n      <td>15</td>\n      <td>16</td>\n      <td>1</td>\n      <td>4</td>\n      <td>7</td>\n      <td>7</td>\n      <td>1</td>\n      <td>5</td>\n      <td>16</td>\n    </tr>\n    <tr>\n      <th>9</th>\n      <td>4</td>\n      <td>5</td>\n      <td>0</td>\n      <td>0</td>\n      <td>1</td>\n      <td>14</td>\n      <td>14</td>\n      <td>6</td>\n      <td>0</td>\n    </tr>\n    <tr>\n      <th>10</th>\n      <td>9</td>\n      <td>16</td>\n      <td>15</td>\n      <td>3</td>\n      <td>7</td>\n      <td>11</td>\n      <td>6</td>\n      <td>8</td>\n      <td>5</td>\n    </tr>\n    <tr>\n      <th>14</th>\n      <td>5</td>\n      <td>7</td>\n      <td>16</td>\n      <td>6</td>\n      <td>0</td>\n      <td>15</td>\n      <td>2</td>\n      <td>9</td>\n      <td>10</td>\n    </tr>\n    <tr>\n      <th>15</th>\n      <td>11</td>\n      <td>11</td>\n      <td>17</td>\n      <td>12</td>\n      <td>0</td>\n      <td>2</td>\n      <td>15</td>\n      <td>17</td>\n      <td>17</td>\n    </tr>\n    <tr>\n      <th>19</th>\n      <td>4</td>\n      <td>7</td>\n      <td>0</td>\n      <td>9</td>\n      <td>18</td>\n      <td>15</td>\n      <td>1</td>\n      <td>3</td>\n      <td>7</td>\n    </tr>\n  </tbody>\n</table>\n</div>"
     },
     "metadata": {},
     "execution_count": 133
    }
   ],
   "source": [
    "res = gb.sum()\n",
    "res"
   ]
  },
  {
   "cell_type": "code",
   "execution_count": 142,
   "metadata": {},
   "outputs": [
    {
     "output_type": "execute_result",
     "data": {
      "text/plain": "array([ -93,  -43,  -92, -102,  -35,  -47,  -58, -102,  -52])"
     },
     "metadata": {},
     "execution_count": 142
    }
   ],
   "source": [
    "(res.loc[3]-res.loc[4]*3).values\n"
   ]
  },
  {
   "cell_type": "code",
   "execution_count": 145,
   "metadata": {},
   "outputs": [],
   "source": [
    "d = res.loc[3].values"
   ]
  },
  {
   "cell_type": "code",
   "execution_count": 147,
   "metadata": {},
   "outputs": [],
   "source": [
    "a = np.sum"
   ]
  },
  {
   "cell_type": "code",
   "execution_count": 148,
   "metadata": {},
   "outputs": [
    {
     "output_type": "execute_result",
     "data": {
      "text/plain": "7"
     },
     "metadata": {},
     "execution_count": 148
    }
   ],
   "source": [
    "a([1,2,4])"
   ]
  },
  {
   "cell_type": "code",
   "execution_count": null,
   "metadata": {},
   "outputs": [],
   "source": []
  }
 ],
 "metadata": {
  "language_info": {
   "codemirror_mode": {
    "name": "ipython",
    "version": 3
   },
   "file_extension": ".py",
   "mimetype": "text/x-python",
   "name": "python",
   "nbconvert_exporter": "python",
   "pygments_lexer": "ipython3",
   "version": "3.7.3-final"
  },
  "orig_nbformat": 2,
  "kernelspec": {
   "name": "python37364bitbaseconda6d5075d54dff4292b50ad08e9e697c3e",
   "display_name": "Python 3.7.3 64-bit ('base': conda)"
  }
 },
 "nbformat": 4,
 "nbformat_minor": 2
}